{
 "cells": [
  {
   "cell_type": "markdown",
   "id": "aa38de2d",
   "metadata": {},
   "source": [
    "# **EJERCICIO #2. INYECCIÓN DE SQL**"
   ]
  },
  {
   "cell_type": "markdown",
   "id": "e26f80d2",
   "metadata": {},
   "source": [
    "**Este ejercicio y documentación fue realizado con fines educativos**"
   ]
  },
  {
   "cell_type": "markdown",
   "id": "5fe37386",
   "metadata": {},
   "source": [
    "Las inyecciones SQL se refiere a la utilización de comandos especificos para el servidor o BD \"inyectados\" desde la plataforma del usuario en formularios abiertos que cuenten con vulnerabilidades.\n",
    "\n",
    "Para la comprobación de este, utilizaremos MUTILLIDAE II como objetivo de vulnerabilidad para crear un ataque de inyección de SQL básico para ingresar como administrador. \n",
    "\n",
    "Como primer paso, llenamos las celdas del formulario de forma aleatoria colocando al principio el caracter \" ' \", para que nos muestre un mensaje de advertencia, mostrando los campos erroneos en el query realizado. De esta forma, podemos ver la composición del query sql y poder modificarlo con comandos directos al servidor por medio del mismo formulario.\n",
    "<img src='Recursos/1.png'>\n",
    "\n",
    "Ahora, utilizando el conocimiento previo, podemos usar la comilla simple para detener el barrido de búsqueda establecido y, junto con otras instrucciones, modificar el funcionamiento o interacción del formulario. Para entrar al servicio de la página por medio de un usuario administrativo, colocaremos el comando **\" ' or 1=1 -- \"**, de esta forma, el servidor interpreta que el sistema de acceso al cliente si se encuentra el usuario \"empty\" O si 1=1, siendo el anterior correcto, dará paso al cliente como un usuario admin, debido a que usualmente, este es el primer usuario en la BD.\n"
   ]
  },
  {
   "cell_type": "markdown",
   "id": "423bc0a1",
   "metadata": {},
   "source": [
    "<img src='Recursos/3.png'>"
   ]
  },
  {
   "cell_type": "markdown",
   "id": "f0725ab2",
   "metadata": {},
   "source": [
    "<img src='Recursos/3.1.png'>"
   ]
  }
 ],
 "metadata": {
  "language_info": {
   "name": "python"
  }
 },
 "nbformat": 4,
 "nbformat_minor": 5
}
