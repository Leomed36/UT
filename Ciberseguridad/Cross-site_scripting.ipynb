{
 "cells": [
  {
   "cell_type": "markdown",
   "id": "d862f2da",
   "metadata": {},
   "source": [
    "# **Ejercicio #3. Cross-site Scripting**"
   ]
  },
  {
   "cell_type": "markdown",
   "id": "befb4cfe",
   "metadata": {},
   "source": [
    "**Este ejercicio y documentación fue realizado con fines educativos**"
   ]
  },
  {
   "cell_type": "markdown",
   "id": "769f01f9",
   "metadata": {},
   "source": [
    "El Cross-site scripting (XSS), es una vulnerabilidad, la cual los atacantes utilizan para la  inyección de código malicioso en páginas web legítimas.\n",
    "\n",
    "Para la comprobación de este ejercicio, utilizaremos Mutillidae II en el modo OWASP 2017, XSS, reflected y DNS lookup.\n",
    "<img src='UT/Recursos/4.png'>\n",
    "\n",
    "Una vez adentro, nos mostrará un formulario para ingresar una IP o un hostname, ahí es donde inyectaremos el código malicioso.\n",
    "Para inyectar el código malicioso,usaremos el siguiente script: \n",
    "\n",
    "<img src='UT/Recursos/cod.png'>\n",
    "\n",
    "El anterior script genera un botón con la leyenda \"Click para continuar\", el cual trabaja con la ingeniería social, invitando al objetivo a darle click para continuar los procesos que esté realizando. El funcionamiento del botón al ser precionado se basa en la substracción de información, especificamente en la localización del conmutador conectado al dispositivo usado. Traduciendolo en coordenadas de latitud y longitud.\n",
    "\n",
    "Ahora, para la inyección de este código malicioso, ingresamos el código en el campo del formulario y listo, dejará el botón y su funcionamiento listo en el servidor, para que las victimas ya puedan visualizarlo y utilizarlo.\n",
    "\n",
    "<img src='UT/Recursos/5.png'>\n",
    "\n",
    "<img src='UT/Recursos/6.png'>\n",
    "\n",
    "Ahora, con la información obtenida, al buscar la dirección en google maps, nos da correctamente la dirección especifica donde se realizó la consulta.\n",
    "\n",
    "<img src='UT/Recursos/7.PNG'>\n"
   ]
  }
 ],
 "metadata": {
  "language_info": {
   "name": "python"
  }
 },
 "nbformat": 4,
 "nbformat_minor": 5
}
